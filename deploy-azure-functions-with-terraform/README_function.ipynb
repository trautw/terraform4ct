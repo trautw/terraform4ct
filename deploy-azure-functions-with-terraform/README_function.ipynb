{
 "cells": [
  {
   "attachments": {},
   "cell_type": "markdown",
   "metadata": {},
   "source": [
    "# Run locally"
   ]
  },
  {
   "cell_type": "code",
   "execution_count": null,
   "metadata": {},
   "outputs": [],
   "source": [
    "!npm install\n",
    "!echo call \"http://localhost:7071/api/hello-world?name=Terraform\"\n",
    "!func start"
   ]
  },
  {
   "attachments": {},
   "cell_type": "markdown",
   "metadata": {},
   "source": [
    "# Publish\n",
    "\n",
    "Replace the final argument with your function name (from Terraform outputs)\n",
    "\n"
   ]
  },
  {
   "cell_type": "code",
   "execution_count": 10,
   "metadata": {},
   "outputs": [
    {
     "name": "stdout",
     "output_type": "stream",
     "text": [
      "Unknown command: \"build\"\n",
      "\n",
      "Did you mean this?\n",
      "    npm run build # run the \"build\" package script\n",
      "\n",
      "To see a list of supported npm commands, run:\n",
      "  npm help\n",
      "\u001b[?1h\u001b=\u001b[mGetting site publishing info...\u001b[m\u001b[m\n",
      "\u001b[m"
     ]
    }
   ],
   "source": [
    "!npm run build\n",
    "!func azure functionapp publish azuretffunc-dev-function-app2"
   ]
  },
  {
   "attachments": {},
   "cell_type": "markdown",
   "metadata": {},
   "source": [
    "# Call\n",
    "\n",
    "https://azuretffunc-dev-function-app2.azurewebsites.net/api/hello-world?name=Terraform\n",
    "\n",
    "Observe https://portal.azure.com/#@az900ct2outlook.onmicrosoft.com/resource/subscriptions/b7c73436-9bc8-446a-9efe-1706cd6ef53e/resourceGroups/azuretffunc-dev-resource-group/providers/Microsoft.Web/sites/azuretffunc-dev-function-app2/logStream"
   ]
  }
 ],
 "metadata": {
  "kernelspec": {
   "display_name": "Python 3",
   "language": "python",
   "name": "python3"
  },
  "language_info": {
   "codemirror_mode": {
    "name": "ipython",
    "version": 3
   },
   "file_extension": ".py",
   "mimetype": "text/x-python",
   "name": "python",
   "nbconvert_exporter": "python",
   "pygments_lexer": "ipython3",
   "version": "3.9.6"
  },
  "orig_nbformat": 4
 },
 "nbformat": 4,
 "nbformat_minor": 2
}
