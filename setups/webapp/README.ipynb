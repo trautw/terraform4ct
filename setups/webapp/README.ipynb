{
 "cells": [
  {
   "attachments": {},
   "cell_type": "markdown",
   "metadata": {},
   "source": [
    "# Plan"
   ]
  },
  {
   "cell_type": "code",
   "execution_count": 1,
   "metadata": {},
   "outputs": [
    {
     "name": "stdout",
     "output_type": "stream",
     "text": [
      "\u001b[0m\u001b[1mmodule.webapp1.azurerm_service_plan.svcplan: Refreshing state... [id=/subscriptions/b7c73436-9bc8-446a-9efe-1706cd6ef53e/resourceGroups/ctrautwebapp1_rg/providers/Microsoft.Web/serverfarms/newweb-appserviceplan]\u001b[0m\n",
      "\u001b[0m\u001b[1mmodule.webapp1.azurerm_linux_web_app.webapp: Refreshing state... [id=/subscriptions/b7c73436-9bc8-446a-9efe-1706cd6ef53e/resourceGroups/ctrautwebapp1_rg/providers/Microsoft.Web/sites/custom-tf-webapp-for-students]\u001b[0m\n",
      "\u001b[0m\u001b[1mmodule.webapp1.azurerm_app_service_source_control.sourcecontrol: Refreshing state... [id=/subscriptions/b7c73436-9bc8-446a-9efe-1706cd6ef53e/resourceGroups/ctrautwebapp1_rg/providers/Microsoft.Web/sites/custom-tf-webapp-for-students]\u001b[0m\n",
      "\n",
      "\u001b[0m\u001b[1m\u001b[32mNo changes.\u001b[0m\u001b[1m Your infrastructure matches the configuration.\u001b[0m\n",
      "\n",
      "\u001b[0mTerraform has compared your real infrastructure against your configuration and\n",
      "found no differences, so no changes are needed.\n"
     ]
    }
   ],
   "source": [
    "!terraform plan"
   ]
  },
  {
   "attachments": {},
   "cell_type": "markdown",
   "metadata": {},
   "source": [
    "# Apply"
   ]
  },
  {
   "cell_type": "code",
   "execution_count": 2,
   "metadata": {},
   "outputs": [
    {
     "name": "stdout",
     "output_type": "stream",
     "text": [
      "\u001b[0m\u001b[1mmodule.webapp1.azurerm_service_plan.svcplan: Refreshing state... [id=/subscriptions/b7c73436-9bc8-446a-9efe-1706cd6ef53e/resourceGroups/ctrautwebapp1_rg/providers/Microsoft.Web/serverfarms/newweb-appserviceplan]\u001b[0m\n",
      "\u001b[0m\u001b[1mmodule.webapp1.azurerm_linux_web_app.webapp: Refreshing state... [id=/subscriptions/b7c73436-9bc8-446a-9efe-1706cd6ef53e/resourceGroups/ctrautwebapp1_rg/providers/Microsoft.Web/sites/custom-tf-webapp-for-students]\u001b[0m\n",
      "\u001b[0m\u001b[1mmodule.webapp1.azurerm_app_service_source_control.sourcecontrol: Refreshing state... [id=/subscriptions/b7c73436-9bc8-446a-9efe-1706cd6ef53e/resourceGroups/ctrautwebapp1_rg/providers/Microsoft.Web/sites/custom-tf-webapp-for-students]\u001b[0m\n",
      "\n",
      "\u001b[0m\u001b[1m\u001b[32mNo changes.\u001b[0m\u001b[1m Your infrastructure matches the configuration.\u001b[0m\n",
      "\n",
      "\u001b[0mTerraform has compared your real infrastructure against your configuration and\n",
      "found no differences, so no changes are needed.\n",
      "\u001b[0m\u001b[1m\u001b[32m\n",
      "Apply complete! Resources: 0 added, 0 changed, 0 destroyed.\n",
      "\u001b[0m"
     ]
    }
   ],
   "source": [
    "!terraform apply -auto-approve -input=false"
   ]
  },
  {
   "attachments": {},
   "cell_type": "markdown",
   "metadata": {},
   "source": [
    "# Show\n",
    "\n",
    "https://portal.azure.com/#view/HubsExtension/BrowseResource/resourceType/Microsoft.Web%2Fsites\n",
    "\n",
    "https://custom-tf-webapp-for-students.azurewebsites.net/\n",
    "\n",
    "https://custom-tf-webapp-for-students.azurewebsites.net/api"
   ]
  }
 ],
 "metadata": {
  "kernelspec": {
   "display_name": "Python 3",
   "language": "python",
   "name": "python3"
  },
  "language_info": {
   "codemirror_mode": {
    "name": "ipython",
    "version": 3
   },
   "file_extension": ".py",
   "mimetype": "text/x-python",
   "name": "python",
   "nbconvert_exporter": "python",
   "pygments_lexer": "ipython3",
   "version": "3.9.6"
  },
  "orig_nbformat": 4
 },
 "nbformat": 4,
 "nbformat_minor": 2
}
