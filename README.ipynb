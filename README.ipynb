{
 "cells": [
  {
   "attachments": {},
   "cell_type": "markdown",
   "metadata": {},
   "source": [
    "# Install Terraform"
   ]
  },
  {
   "cell_type": "code",
   "execution_count": null,
   "metadata": {},
   "outputs": [],
   "source": [
    "!brew uninstall terraform\n",
    "!brew install tfenv\n",
    "!TFENV_ARCH=amd64 tfenv install 1.3.4"
   ]
  },
  {
   "attachments": {},
   "cell_type": "markdown",
   "metadata": {},
   "source": [
    "# Install Azure CLI"
   ]
  },
  {
   "cell_type": "code",
   "execution_count": 2,
   "metadata": {},
   "outputs": [
    {
     "name": "stdout",
     "output_type": "stream",
     "text": [
      "Already up-to-date.\n",
      "\u001b[32m==>\u001b[0m \u001b[1mFetching dependencies for azure-cli: \u001b[32mgdbm\u001b[39m, \u001b[32mmpdecimal\u001b[39m, \u001b[32mreadline\u001b[39m, \u001b[32msqlite\u001b[39m, \u001b[32mxz\u001b[39m and \u001b[32mpython@3.10\u001b[39m\u001b[0m\n",
      "\u001b[32m==>\u001b[0m \u001b[1mFetching \u001b[32mgdbm\u001b[39m\u001b[0m\n",
      "\u001b[34m==>\u001b[0m \u001b[1mDownloading https://ghcr.io/v2/homebrew/core/gdbm/manifests/1.23\u001b[0m\n",
      "######################################################################## 100.0%\n",
      "\u001b[34m==>\u001b[0m \u001b[1mDownloading https://ghcr.io/v2/homebrew/core/gdbm/blobs/sha256:a7321472cc9ff\u001b[0m\n",
      "\u001b[34m==>\u001b[0m \u001b[1mDownloading from https://pkg-containers.githubusercontent.com/ghcr1/blobs/sh\u001b[0m\n",
      "######################################################################## 100.0%\n",
      "\u001b[32m==>\u001b[0m \u001b[1mFetching \u001b[32mmpdecimal\u001b[39m\u001b[0m\n",
      "\u001b[34m==>\u001b[0m \u001b[1mDownloading https://ghcr.io/v2/homebrew/core/mpdecimal/manifests/2.5.1\u001b[0m\n",
      "######################################################################## 100.0%\n",
      "\u001b[34m==>\u001b[0m \u001b[1mDownloading https://ghcr.io/v2/homebrew/core/mpdecimal/blobs/sha256:5b1c62c0\u001b[0m\n",
      "\u001b[34m==>\u001b[0m \u001b[1mDownloading from https://pkg-containers.githubusercontent.com/ghcr1/blobs/sh\u001b[0m\n",
      "######################################################################## 100.0%\n",
      "\u001b[32m==>\u001b[0m \u001b[1mFetching \u001b[32mreadline\u001b[39m\u001b[0m\n",
      "\u001b[34m==>\u001b[0m \u001b[1mDownloading https://ghcr.io/v2/homebrew/core/readline/manifests/8.2.1\u001b[0m\n",
      "######################################################################## 100.0%\n",
      "\u001b[34m==>\u001b[0m \u001b[1mDownloading https://ghcr.io/v2/homebrew/core/readline/blobs/sha256:fba42a9bd\u001b[0m\n",
      "\u001b[34m==>\u001b[0m \u001b[1mDownloading from https://pkg-containers.githubusercontent.com/ghcr1/blobs/sh\u001b[0m\n",
      "######################################################################## 100.0%\n",
      "\u001b[32m==>\u001b[0m \u001b[1mFetching \u001b[32msqlite\u001b[39m\u001b[0m\n",
      "\u001b[34m==>\u001b[0m \u001b[1mDownloading https://ghcr.io/v2/homebrew/core/sqlite/manifests/3.41.2\u001b[0m\n",
      "######################################################################## 100.0%\n",
      "\u001b[34m==>\u001b[0m \u001b[1mDownloading https://ghcr.io/v2/homebrew/core/sqlite/blobs/sha256:2a77f2ddcf1\u001b[0m\n",
      "\u001b[34m==>\u001b[0m \u001b[1mDownloading from https://pkg-containers.githubusercontent.com/ghcr1/blobs/sh\u001b[0m\n",
      "######################################################################## 100.0%\n",
      "\u001b[32m==>\u001b[0m \u001b[1mFetching \u001b[32mxz\u001b[39m\u001b[0m\n",
      "\u001b[34m==>\u001b[0m \u001b[1mDownloading https://ghcr.io/v2/homebrew/core/xz/manifests/5.4.2\u001b[0m\n",
      "######################################################################## 100.0%\n",
      "\u001b[34m==>\u001b[0m \u001b[1mDownloading https://ghcr.io/v2/homebrew/core/xz/blobs/sha256:5919a39bb56458a\u001b[0m\n",
      "\u001b[34m==>\u001b[0m \u001b[1mDownloading from https://pkg-containers.githubusercontent.com/ghcr1/blobs/sh\u001b[0m\n",
      "######################################################################## 100.0%\n",
      "\u001b[32m==>\u001b[0m \u001b[1mFetching \u001b[32mpython@3.10\u001b[39m\u001b[0m\n",
      "\u001b[34m==>\u001b[0m \u001b[1mDownloading https://ghcr.io/v2/homebrew/core/python/3.10/manifests/3.10.11\u001b[0m\n",
      "######################################################################## 100.0%\n",
      "\u001b[34m==>\u001b[0m \u001b[1mDownloading https://ghcr.io/v2/homebrew/core/python/3.10/blobs/sha256:7821f3\u001b[0m\n",
      "\u001b[34m==>\u001b[0m \u001b[1mDownloading from https://pkg-containers.githubusercontent.com/ghcr1/blobs/sh\u001b[0m\n",
      "######################################################################## 100.0%\n",
      "\u001b[32m==>\u001b[0m \u001b[1mFetching \u001b[32mazure-cli\u001b[39m\u001b[0m\n",
      "\u001b[34m==>\u001b[0m \u001b[1mDownloading https://ghcr.io/v2/homebrew/core/azure-cli/manifests/2.47.0\u001b[0m\n",
      "######################################################################## 100.0%\n",
      "\u001b[34m==>\u001b[0m \u001b[1mDownloading https://ghcr.io/v2/homebrew/core/azure-cli/blobs/sha256:8d569270\u001b[0m\n",
      "\u001b[34m==>\u001b[0m \u001b[1mDownloading from https://pkg-containers.githubusercontent.com/ghcr1/blobs/sh\u001b[0m\n",
      "######################################################################## 100.0%\n",
      "\u001b[32m==>\u001b[0m \u001b[1mInstalling dependencies for azure-cli: \u001b[32mgdbm\u001b[39m, \u001b[32mmpdecimal\u001b[39m, \u001b[32mreadline\u001b[39m, \u001b[32msqlite\u001b[39m, \u001b[32mxz\u001b[39m and \u001b[32mpython@3.10\u001b[39m\u001b[0m\n",
      "\u001b[32m==>\u001b[0m \u001b[1mInstalling azure-cli dependency: \u001b[32mgdbm\u001b[39m\u001b[0m\n",
      "\u001b[34m==>\u001b[0m \u001b[1mPouring gdbm--1.23.arm64_ventura.bottle.tar.gz\u001b[0m\n",
      "🍺  /opt/homebrew/Cellar/gdbm/1.23: 24 files, 1MB\n",
      "\u001b[32m==>\u001b[0m \u001b[1mInstalling azure-cli dependency: \u001b[32mmpdecimal\u001b[39m\u001b[0m\n",
      "\u001b[34m==>\u001b[0m \u001b[1mPouring mpdecimal--2.5.1.arm64_ventura.bottle.tar.gz\u001b[0m\n",
      "🍺  /opt/homebrew/Cellar/mpdecimal/2.5.1: 71 files, 2.2MB\n",
      "\u001b[32m==>\u001b[0m \u001b[1mInstalling azure-cli dependency: \u001b[32mreadline\u001b[39m\u001b[0m\n",
      "\u001b[34m==>\u001b[0m \u001b[1mPouring readline--8.2.1.arm64_ventura.bottle.tar.gz\u001b[0m\n",
      "🍺  /opt/homebrew/Cellar/readline/8.2.1: 50 files, 1.7MB\n",
      "\u001b[32m==>\u001b[0m \u001b[1mInstalling azure-cli dependency: \u001b[32msqlite\u001b[39m\u001b[0m\n",
      "\u001b[34m==>\u001b[0m \u001b[1mPouring sqlite--3.41.2.arm64_ventura.bottle.tar.gz\u001b[0m\n",
      "🍺  /opt/homebrew/Cellar/sqlite/3.41.2: 11 files, 4.5MB\n",
      "\u001b[32m==>\u001b[0m \u001b[1mInstalling azure-cli dependency: \u001b[32mxz\u001b[39m\u001b[0m\n",
      "\u001b[34m==>\u001b[0m \u001b[1mPouring xz--5.4.2.arm64_ventura.bottle.tar.gz\u001b[0m\n",
      "🍺  /opt/homebrew/Cellar/xz/5.4.2: 162 files, 2.5MB\n",
      "\u001b[32m==>\u001b[0m \u001b[1mInstalling azure-cli dependency: \u001b[32mpython@3.10\u001b[39m\u001b[0m\n",
      "\u001b[34m==>\u001b[0m \u001b[1mPouring python@3.10--3.10.11.arm64_ventura.bottle.tar.gz\u001b[0m\n",
      "\u001b[34m==>\u001b[0m \u001b[1m/opt/homebrew/Cellar/python@3.10/3.10.11/bin/python3.10 -m ensurepip\u001b[0m\n",
      "\u001b[34m==>\u001b[0m \u001b[1m/opt/homebrew/Cellar/python@3.10/3.10.11/bin/python3.10 -m pip install -v --\u001b[0m\n",
      "🍺  /opt/homebrew/Cellar/python@3.10/3.10.11: 3,099 files, 57.2MB\n",
      "\u001b[32m==>\u001b[0m \u001b[1mInstalling \u001b[32mazure-cli\u001b[39m\u001b[0m\n",
      "\u001b[34m==>\u001b[0m \u001b[1mPouring azure-cli--2.47.0.arm64_ventura.bottle.tar.gz\u001b[0m\n",
      "🍺  /opt/homebrew/Cellar/azure-cli/2.47.0: 21,406 files, 466.9MB\n",
      "\u001b[34m==>\u001b[0m \u001b[1mRunning `brew cleanup azure-cli`...\u001b[0m\n",
      "Disable this behaviour by setting HOMEBREW_NO_INSTALL_CLEANUP.\n",
      "Hide these hints with HOMEBREW_NO_ENV_HINTS (see `man brew`).\n"
     ]
    }
   ],
   "source": [
    "!brew update && brew install azure-cli"
   ]
  },
  {
   "attachments": {},
   "cell_type": "markdown",
   "metadata": {},
   "source": [
    "# Init"
   ]
  },
  {
   "cell_type": "code",
   "execution_count": 6,
   "metadata": {},
   "outputs": [
    {
     "name": "stdout",
     "output_type": "stream",
     "text": [
      "\n",
      "\u001b[0m\u001b[1mInitializing the backend...\u001b[0m\n",
      "\n",
      "\u001b[0m\u001b[1mInitializing provider plugins...\u001b[0m\n",
      "- Reusing previous version of hashicorp/azurerm from the dependency lock file\n",
      "- Using previously-installed hashicorp/azurerm v1.38.0\n",
      "\n",
      "\u001b[33m\u001b[33m╷\u001b[0m\u001b[0m\n",
      "\u001b[33m│\u001b[0m \u001b[0m\u001b[1m\u001b[33mWarning: \u001b[0m\u001b[0m\u001b[1mVersion constraints inside provider configuration blocks are deprecated\u001b[0m\n",
      "\u001b[33m│\u001b[0m \u001b[0m\n",
      "\u001b[33m│\u001b[0m \u001b[0m\u001b[0m  on main.tf line 2, in provider \"azurerm\":\n",
      "\u001b[33m│\u001b[0m \u001b[0m   2:     version = \u001b[4m1.38\u001b[0m\u001b[0m\n",
      "\u001b[33m│\u001b[0m \u001b[0m\n",
      "\u001b[33m│\u001b[0m \u001b[0mTerraform 0.13 and earlier allowed provider version constraints inside the\n",
      "\u001b[33m│\u001b[0m \u001b[0mprovider configuration block, but that is now deprecated and will be removed\n",
      "\u001b[33m│\u001b[0m \u001b[0min a future version of Terraform. To silence this warning, move the provider\n",
      "\u001b[33m│\u001b[0m \u001b[0mversion constraint into the required_providers block.\n",
      "\u001b[33m╵\u001b[0m\u001b[0m\n",
      "\u001b[0m\u001b[0m\n",
      "\u001b[0m\u001b[1m\u001b[32mTerraform has been successfully initialized!\u001b[0m\u001b[32m\u001b[0m\n",
      "\u001b[0m\u001b[32m\n",
      "You may now begin working with Terraform. Try running \"terraform plan\" to see\n",
      "any changes that are required for your infrastructure. All Terraform commands\n",
      "should now work.\n",
      "\n",
      "If you ever set or change modules or backend configuration for Terraform,\n",
      "rerun this command to reinitialize your working directory. If you forget, other\n",
      "commands will detect it and remind you to do so if necessary.\u001b[0m\n"
     ]
    }
   ],
   "source": [
    "!terraform init"
   ]
  },
  {
   "attachments": {},
   "cell_type": "markdown",
   "metadata": {},
   "source": [
    "# Plan"
   ]
  },
  {
   "cell_type": "code",
   "execution_count": 9,
   "metadata": {},
   "outputs": [
    {
     "name": "stdout",
     "output_type": "stream",
     "text": [
      "\n",
      "Terraform used the selected providers to generate the following execution plan.\n",
      "Resource actions are indicated with the following symbols:\n",
      "  \u001b[32m+\u001b[0m create\n",
      "\u001b[0m\n",
      "Terraform will perform the following actions:\n",
      "\n",
      "\u001b[1m  # azurerm_resource_group.rg\u001b[0m will be created\u001b[0m\u001b[0m\n",
      "\u001b[0m  \u001b[32m+\u001b[0m\u001b[0m resource \"azurerm_resource_group\" \"rg\" {\n",
      "      \u001b[32m+\u001b[0m \u001b[0m\u001b[1m\u001b[0mid\u001b[0m\u001b[0m       = (known after apply)\n",
      "      \u001b[32m+\u001b[0m \u001b[0m\u001b[1m\u001b[0mlocation\u001b[0m\u001b[0m = \"westeurope\"\n",
      "      \u001b[32m+\u001b[0m \u001b[0m\u001b[1m\u001b[0mname\u001b[0m\u001b[0m     = \"TFResourceGroup\"\n",
      "    }\n",
      "\n",
      "\u001b[0m\u001b[1mPlan:\u001b[0m 1 to add, 0 to change, 0 to destroy.\n",
      "\u001b[0m\u001b[90m\n",
      "───────────────────────────────────────────────────────────────────────────────\u001b[0m\n",
      "\n",
      "Note: You didn't use the -out option to save this plan, so Terraform can't\n",
      "guarantee to take exactly these actions if you run \"terraform apply\" now.\n"
     ]
    }
   ],
   "source": [
    "!terraform plan"
   ]
  },
  {
   "attachments": {},
   "cell_type": "markdown",
   "metadata": {},
   "source": [
    "# Apply"
   ]
  },
  {
   "cell_type": "code",
   "execution_count": 10,
   "metadata": {},
   "outputs": [
    {
     "name": "stdout",
     "output_type": "stream",
     "text": [
      "\u001b[0m\u001b[1mazurerm_resource_group.rg: Refreshing state... [id=/subscriptions/b7c73436-9bc8-446a-9efe-1706cd6ef53e/resourceGroups/TFResourceGroup]\u001b[0m\n",
      "\n",
      "\u001b[0m\u001b[1m\u001b[32mNo changes.\u001b[0m\u001b[1m Your infrastructure matches the configuration.\u001b[0m\n",
      "\n",
      "\u001b[0mTerraform has compared your real infrastructure against your configuration and\n",
      "found no differences, so no changes are needed.\n",
      "\u001b[0m\u001b[1m\u001b[32m\n",
      "Apply complete! Resources: 0 added, 0 changed, 0 destroyed.\n",
      "\u001b[0m"
     ]
    }
   ],
   "source": [
    "!terraform apply -auto-approve -input=false"
   ]
  }
 ],
 "metadata": {
  "kernelspec": {
   "display_name": "Python 3",
   "language": "python",
   "name": "python3"
  },
  "language_info": {
   "codemirror_mode": {
    "name": "ipython",
    "version": 3
   },
   "file_extension": ".py",
   "mimetype": "text/x-python",
   "name": "python",
   "nbconvert_exporter": "python",
   "pygments_lexer": "ipython3",
   "version": "3.9.6"
  },
  "orig_nbformat": 4
 },
 "nbformat": 4,
 "nbformat_minor": 2
}
