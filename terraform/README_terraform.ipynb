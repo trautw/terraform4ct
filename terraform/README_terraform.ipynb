{
 "cells": [
  {
   "attachments": {},
   "cell_type": "markdown",
   "metadata": {},
   "source": [
    "# From\n",
    "\n",
    "https://www.maxivanov.io/deploy-azure-functions-with-terraform/\n",
    "\n",
    "See also https://www.maxivanov.io/publish-azure-functions-code-with-terraform/\n",
    "(Windows only)"
   ]
  },
  {
   "attachments": {},
   "cell_type": "markdown",
   "metadata": {},
   "source": [
    "# Init"
   ]
  },
  {
   "cell_type": "code",
   "execution_count": 1,
   "metadata": {},
   "outputs": [
    {
     "name": "stdout",
     "output_type": "stream",
     "text": [
      "\n",
      "\u001b[0m\u001b[1mInitializing the backend...\u001b[0m\n",
      "\n",
      "\u001b[0m\u001b[1mInitializing provider plugins...\u001b[0m\n",
      "- Finding hashicorp/azurerm versions matching \"~> 3.0\"...\n",
      "- Installing hashicorp/azurerm v3.53.0...\n",
      "- Installed hashicorp/azurerm v3.53.0 (signed by HashiCorp)\n",
      "\n",
      "Terraform has created a lock file \u001b[1m.terraform.lock.hcl\u001b[0m to record the provider\n",
      "selections it made above. Include this file in your version control repository\n",
      "so that Terraform can guarantee to make the same selections by default when\n",
      "you run \"terraform init\" in the future.\u001b[0m\n",
      "\n",
      "\u001b[0m\u001b[1m\u001b[32mTerraform has been successfully initialized!\u001b[0m\u001b[32m\u001b[0m\n",
      "\u001b[0m\u001b[32m\n",
      "You may now begin working with Terraform. Try running \"terraform plan\" to see\n",
      "any changes that are required for your infrastructure. All Terraform commands\n",
      "should now work.\n",
      "\n",
      "If you ever set or change modules or backend configuration for Terraform,\n",
      "rerun this command to reinitialize your working directory. If you forget, other\n",
      "commands will detect it and remind you to do so if necessary.\u001b[0m\n"
     ]
    }
   ],
   "source": [
    "!terraform init"
   ]
  },
  {
   "attachments": {},
   "cell_type": "markdown",
   "metadata": {},
   "source": [
    "# Plan"
   ]
  },
  {
   "cell_type": "code",
   "execution_count": 20,
   "metadata": {},
   "outputs": [
    {
     "name": "stdout",
     "output_type": "stream",
     "text": [
      "\u001b[0m\u001b[1mazurerm_resource_group.resource_group: Refreshing state... [id=/subscriptions/b7c73436-9bc8-446a-9efe-1706cd6ef53e/resourceGroups/azuretffunc-dev-resource-group]\u001b[0m\n",
      "\u001b[0m\u001b[1mazurerm_service_plan.app_service_plan: Refreshing state... [id=/subscriptions/b7c73436-9bc8-446a-9efe-1706cd6ef53e/resourceGroups/azuretffunc-dev-resource-group/providers/Microsoft.Web/serverfarms/azuretffunc-dev-service-plan]\u001b[0m\n",
      "\u001b[0m\u001b[1mazurerm_application_insights.application_insights: Refreshing state... [id=/subscriptions/b7c73436-9bc8-446a-9efe-1706cd6ef53e/resourceGroups/azuretffunc-dev-resource-group/providers/Microsoft.Insights/components/azuretffunc-dev-application-insights]\u001b[0m\n",
      "\u001b[0m\u001b[1mazurerm_storage_account.storage_account: Refreshing state... [id=/subscriptions/b7c73436-9bc8-446a-9efe-1706cd6ef53e/resourceGroups/azuretffunc-dev-resource-group/providers/Microsoft.Storage/storageAccounts/azuretffuncdevstorage2]\u001b[0m\n",
      "\u001b[0m\u001b[1mazurerm_linux_function_app.function_app: Refreshing state... [id=/subscriptions/b7c73436-9bc8-446a-9efe-1706cd6ef53e/resourceGroups/azuretffunc-dev-resource-group/providers/Microsoft.Web/sites/azuretffunc-dev-function-app2]\u001b[0m\n",
      "\n",
      "Terraform used the selected providers to generate the following execution plan.\n",
      "Resource actions are indicated with the following symbols:\n",
      "  \u001b[33m~\u001b[0m update in-place\n",
      "\u001b[0m\n",
      "Terraform will perform the following actions:\n",
      "\n",
      "\u001b[1m  # azurerm_linux_function_app.function_app\u001b[0m will be updated in-place\u001b[0m\u001b[0m\n",
      "\u001b[0m  \u001b[33m~\u001b[0m\u001b[0m resource \"azurerm_linux_function_app\" \"function_app\" {\n",
      "      \u001b[33m~\u001b[0m \u001b[0m\u001b[1m\u001b[0mapp_settings\u001b[0m\u001b[0m                       = {\n",
      "          \u001b[32m+\u001b[0m \u001b[0m\"APPINSIGHTS_INSTRUMENTATIONKEY\" = (sensitive)\n",
      "            \u001b[90m# (1 unchanged element hidden)\u001b[0m\u001b[0m\n",
      "        }\n",
      "        \u001b[1m\u001b[0mid\u001b[0m\u001b[0m                                 = \"/subscriptions/b7c73436-9bc8-446a-9efe-1706cd6ef53e/resourceGroups/azuretffunc-dev-resource-group/providers/Microsoft.Web/sites/azuretffunc-dev-function-app2\"\n",
      "        \u001b[1m\u001b[0mname\u001b[0m\u001b[0m                               = \"azuretffunc-dev-function-app2\"\n",
      "        \u001b[1m\u001b[0mtags\u001b[0m\u001b[0m                               = {}\n",
      "        \u001b[90m# (28 unchanged attributes hidden)\u001b[0m\u001b[0m\n",
      "\n",
      "      \u001b[33m~\u001b[0m \u001b[0msite_config {\n",
      "          \u001b[31m-\u001b[0m \u001b[0m\u001b[1m\u001b[0mapplication_insights_key\u001b[0m\u001b[0m                = (sensitive value)\n",
      "            \u001b[90m# (22 unchanged attributes hidden)\u001b[0m\u001b[0m\n",
      "\n",
      "          \u001b[32m+\u001b[0m \u001b[0mapplication_stack {\n",
      "              \u001b[32m+\u001b[0m \u001b[0m\u001b[1m\u001b[0mnode_version\u001b[0m\u001b[0m                = \"18\"\n",
      "              \u001b[32m+\u001b[0m \u001b[0m\u001b[1m\u001b[0muse_dotnet_isolated_runtime\u001b[0m\u001b[0m = false\n",
      "            }\n",
      "        }\n",
      "    }\n",
      "\n",
      "\u001b[0m\u001b[1mPlan:\u001b[0m 0 to add, 1 to change, 0 to destroy.\n",
      "\u001b[0m\u001b[90m\n",
      "───────────────────────────────────────────────────────────────────────────────\u001b[0m\n",
      "\n",
      "Note: You didn't use the -out option to save this plan, so Terraform can't\n",
      "guarantee to take exactly these actions if you run \"terraform apply\" now.\n"
     ]
    }
   ],
   "source": [
    "!terraform plan"
   ]
  },
  {
   "attachments": {},
   "cell_type": "markdown",
   "metadata": {},
   "source": [
    "# Apply"
   ]
  },
  {
   "cell_type": "code",
   "execution_count": 21,
   "metadata": {},
   "outputs": [
    {
     "name": "stdout",
     "output_type": "stream",
     "text": [
      "\u001b[0m\u001b[1mazurerm_resource_group.resource_group: Refreshing state... [id=/subscriptions/b7c73436-9bc8-446a-9efe-1706cd6ef53e/resourceGroups/azuretffunc-dev-resource-group]\u001b[0m\n",
      "\u001b[0m\u001b[1mazurerm_service_plan.app_service_plan: Refreshing state... [id=/subscriptions/b7c73436-9bc8-446a-9efe-1706cd6ef53e/resourceGroups/azuretffunc-dev-resource-group/providers/Microsoft.Web/serverfarms/azuretffunc-dev-service-plan]\u001b[0m\n",
      "\u001b[0m\u001b[1mazurerm_application_insights.application_insights: Refreshing state... [id=/subscriptions/b7c73436-9bc8-446a-9efe-1706cd6ef53e/resourceGroups/azuretffunc-dev-resource-group/providers/Microsoft.Insights/components/azuretffunc-dev-application-insights]\u001b[0m\n",
      "\u001b[0m\u001b[1mazurerm_storage_account.storage_account: Refreshing state... [id=/subscriptions/b7c73436-9bc8-446a-9efe-1706cd6ef53e/resourceGroups/azuretffunc-dev-resource-group/providers/Microsoft.Storage/storageAccounts/azuretffuncdevstorage2]\u001b[0m\n",
      "\u001b[0m\u001b[1mazurerm_linux_function_app.function_app: Refreshing state... [id=/subscriptions/b7c73436-9bc8-446a-9efe-1706cd6ef53e/resourceGroups/azuretffunc-dev-resource-group/providers/Microsoft.Web/sites/azuretffunc-dev-function-app2]\u001b[0m\n",
      "\n",
      "Terraform used the selected providers to generate the following execution plan.\n",
      "Resource actions are indicated with the following symbols:\n",
      "  \u001b[33m~\u001b[0m update in-place\n",
      "\u001b[0m\n",
      "Terraform will perform the following actions:\n",
      "\n",
      "\u001b[1m  # azurerm_linux_function_app.function_app\u001b[0m will be updated in-place\u001b[0m\u001b[0m\n",
      "\u001b[0m  \u001b[33m~\u001b[0m\u001b[0m resource \"azurerm_linux_function_app\" \"function_app\" {\n",
      "      \u001b[33m~\u001b[0m \u001b[0m\u001b[1m\u001b[0mapp_settings\u001b[0m\u001b[0m                       = {\n",
      "          \u001b[32m+\u001b[0m \u001b[0m\"APPINSIGHTS_INSTRUMENTATIONKEY\" = (sensitive)\n",
      "            \u001b[90m# (1 unchanged element hidden)\u001b[0m\u001b[0m\n",
      "        }\n",
      "        \u001b[1m\u001b[0mid\u001b[0m\u001b[0m                                 = \"/subscriptions/b7c73436-9bc8-446a-9efe-1706cd6ef53e/resourceGroups/azuretffunc-dev-resource-group/providers/Microsoft.Web/sites/azuretffunc-dev-function-app2\"\n",
      "        \u001b[1m\u001b[0mname\u001b[0m\u001b[0m                               = \"azuretffunc-dev-function-app2\"\n",
      "        \u001b[1m\u001b[0mtags\u001b[0m\u001b[0m                               = {}\n",
      "        \u001b[90m# (28 unchanged attributes hidden)\u001b[0m\u001b[0m\n",
      "\n",
      "      \u001b[33m~\u001b[0m \u001b[0msite_config {\n",
      "          \u001b[31m-\u001b[0m \u001b[0m\u001b[1m\u001b[0mapplication_insights_key\u001b[0m\u001b[0m                = (sensitive value)\n",
      "            \u001b[90m# (22 unchanged attributes hidden)\u001b[0m\u001b[0m\n",
      "\n",
      "          \u001b[32m+\u001b[0m \u001b[0mapplication_stack {\n",
      "              \u001b[32m+\u001b[0m \u001b[0m\u001b[1m\u001b[0mnode_version\u001b[0m\u001b[0m                = \"18\"\n",
      "              \u001b[32m+\u001b[0m \u001b[0m\u001b[1m\u001b[0muse_dotnet_isolated_runtime\u001b[0m\u001b[0m = false\n",
      "            }\n",
      "        }\n",
      "    }\n",
      "\n",
      "\u001b[0m\u001b[1mPlan:\u001b[0m 0 to add, 1 to change, 0 to destroy.\n",
      "\u001b[0m\u001b[0m\u001b[1mazurerm_linux_function_app.function_app: Modifying... [id=/subscriptions/b7c73436-9bc8-446a-9efe-1706cd6ef53e/resourceGroups/azuretffunc-dev-resource-group/providers/Microsoft.Web/sites/azuretffunc-dev-function-app2]\u001b[0m\u001b[0m\n",
      "\u001b[0m\u001b[1mazurerm_linux_function_app.function_app: Still modifying... [id=/subscriptions/b7c73436-9bc8-446a-9efe-...eb/sites/azuretffunc-dev-function-app2, 10s elapsed]\u001b[0m\u001b[0m\n",
      "\u001b[0m\u001b[1mazurerm_linux_function_app.function_app: Modifications complete after 12s [id=/subscriptions/b7c73436-9bc8-446a-9efe-1706cd6ef53e/resourceGroups/azuretffunc-dev-resource-group/providers/Microsoft.Web/sites/azuretffunc-dev-function-app2]\u001b[0m\n",
      "\u001b[0m\u001b[1m\u001b[32m\n",
      "Apply complete! Resources: 0 added, 1 changed, 0 destroyed.\n",
      "\u001b[0m\u001b[0m\u001b[1m\u001b[32m\n",
      "Outputs:\n",
      "\n",
      "\u001b[0mfunction_app_default_hostname = \"azuretffunc-dev-function-app2.azurewebsites.net\"\n",
      "function_app_name = \"azuretffunc-dev-function-app2\"\n"
     ]
    }
   ],
   "source": [
    "!terraform apply -auto-approve -input=false"
   ]
  },
  {
   "attachments": {},
   "cell_type": "markdown",
   "metadata": {},
   "source": [
    "# Output"
   ]
  },
  {
   "cell_type": "code",
   "execution_count": 16,
   "metadata": {},
   "outputs": [
    {
     "name": "stdout",
     "output_type": "stream",
     "text": [
      "function_app_default_hostname = \"azuretffunc-dev-function-app2.azurewebsites.net\"\n",
      "function_app_name = \"azuretffunc-dev-function-app2\"\n"
     ]
    }
   ],
   "source": [
    "!terraform output"
   ]
  },
  {
   "attachments": {},
   "cell_type": "markdown",
   "metadata": {},
   "source": [
    "# Show\n",
    "\n",
    "https://portal.azure.com/#view/HubsExtension/BrowseResource/resourceType/Microsoft.Web%2Fsites\n",
    "\n",
    "https://azuretffunc-dev-function-app2.azurewebsites.net/api/hello-world?name=Terraform3"
   ]
  }
 ],
 "metadata": {
  "kernelspec": {
   "display_name": "Python 3",
   "language": "python",
   "name": "python3"
  },
  "language_info": {
   "codemirror_mode": {
    "name": "ipython",
    "version": 3
   },
   "file_extension": ".py",
   "mimetype": "text/x-python",
   "name": "python",
   "nbconvert_exporter": "python",
   "pygments_lexer": "ipython3",
   "version": "3.9.6"
  },
  "orig_nbformat": 4
 },
 "nbformat": 4,
 "nbformat_minor": 2
}
